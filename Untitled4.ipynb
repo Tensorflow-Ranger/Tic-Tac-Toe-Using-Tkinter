{
 "cells": [
  {
   "cell_type": "code",
   "execution_count": 2,
   "metadata": {},
   "outputs": [],
   "source": [
    "# importing only those functions \n",
    "# which are needed \n",
    "from tkinter import * \n",
    "from tkinter.ttk import *\n",
    "  \n",
    "# creating tkinter window \n",
    "root = Tk() \n",
    "  \n",
    "# Adding widgets to the root window \n",
    "l = Label(root, text = 'GeeksforGeeks', font =( \n",
    "  'Verdana', 15)).pack(side = TOP, pady = 10) \n",
    "  \n",
    "# Creating a photoimage object to use image \n",
    "photo = PhotoImage(file = \"O.png\") \n",
    "  \n",
    "# Resizing image to fit on button \n",
    "photoimage = photo.subsample(3, 3) \n",
    "  \n",
    "# here, image option is used to \n",
    "# set image on button \n",
    "# compound option is used to align \n",
    "# image on LEFT side of button \n",
    "x1 = Button(root,image = photoimage,compound = LEFT).pack(side = TOP) \n",
    "\n",
    "mainloop()"
   ]
  },
  {
   "cell_type": "code",
   "execution_count": null,
   "metadata": {},
   "outputs": [],
   "source": [
    "photo=PhotoImage(file=\"O.png\")\n",
    "x1.config(image=photo)\n",
    "x1.place(relx=1,x=5, y=-5, anchor=NE)"
   ]
  },
  {
   "cell_type": "code",
   "execution_count": null,
   "metadata": {},
   "outputs": [],
   "source": []
  }
 ],
 "metadata": {
  "kernelspec": {
   "display_name": "Python 3",
   "language": "python",
   "name": "python3"
  },
  "language_info": {
   "codemirror_mode": {
    "name": "ipython",
    "version": 3
   },
   "file_extension": ".py",
   "mimetype": "text/x-python",
   "name": "python",
   "nbconvert_exporter": "python",
   "pygments_lexer": "ipython3",
   "version": "3.5.6"
  }
 },
 "nbformat": 4,
 "nbformat_minor": 2
}
